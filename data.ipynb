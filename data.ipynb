{
 "cells": [
  {
   "cell_type": "code",
   "execution_count": 1,
   "metadata": {},
   "outputs": [],
   "source": [
    "import pandas as pd\n",
    "import scipy.stats as stats #for statistical calculations\n",
    "import numpy as np"
   ]
  },
  {
   "cell_type": "code",
   "execution_count": 2,
   "metadata": {},
   "outputs": [
    {
     "data": {
      "text/html": [
       "<div>\n",
       "<style scoped>\n",
       "    .dataframe tbody tr th:only-of-type {\n",
       "        vertical-align: middle;\n",
       "    }\n",
       "\n",
       "    .dataframe tbody tr th {\n",
       "        vertical-align: top;\n",
       "    }\n",
       "\n",
       "    .dataframe thead th {\n",
       "        text-align: right;\n",
       "    }\n",
       "</style>\n",
       "<table border=\"1\" class=\"dataframe\">\n",
       "  <thead>\n",
       "    <tr style=\"text-align: right;\">\n",
       "      <th></th>\n",
       "      <th>PetID</th>\n",
       "      <th>PetType</th>\n",
       "      <th>Breed</th>\n",
       "      <th>AgeMonths</th>\n",
       "      <th>Color</th>\n",
       "      <th>Size</th>\n",
       "      <th>WeightKg</th>\n",
       "      <th>Vaccinated</th>\n",
       "      <th>HealthCondition</th>\n",
       "      <th>TimeInShelterDays</th>\n",
       "      <th>AdoptionFee</th>\n",
       "      <th>PreviousOwner</th>\n",
       "      <th>AdoptionLikelihood</th>\n",
       "    </tr>\n",
       "  </thead>\n",
       "  <tbody>\n",
       "    <tr>\n",
       "      <th>0</th>\n",
       "      <td>500</td>\n",
       "      <td>Bird</td>\n",
       "      <td>Parakeet</td>\n",
       "      <td>131</td>\n",
       "      <td>Orange</td>\n",
       "      <td>Large</td>\n",
       "      <td>5.039768</td>\n",
       "      <td>1</td>\n",
       "      <td>0</td>\n",
       "      <td>27</td>\n",
       "      <td>140</td>\n",
       "      <td>0</td>\n",
       "      <td>0</td>\n",
       "    </tr>\n",
       "    <tr>\n",
       "      <th>1</th>\n",
       "      <td>501</td>\n",
       "      <td>Rabbit</td>\n",
       "      <td>Rabbit</td>\n",
       "      <td>73</td>\n",
       "      <td>White</td>\n",
       "      <td>Large</td>\n",
       "      <td>16.086727</td>\n",
       "      <td>0</td>\n",
       "      <td>0</td>\n",
       "      <td>8</td>\n",
       "      <td>235</td>\n",
       "      <td>0</td>\n",
       "      <td>0</td>\n",
       "    </tr>\n",
       "    <tr>\n",
       "      <th>2</th>\n",
       "      <td>502</td>\n",
       "      <td>Dog</td>\n",
       "      <td>Golden Retriever</td>\n",
       "      <td>136</td>\n",
       "      <td>Orange</td>\n",
       "      <td>Medium</td>\n",
       "      <td>2.076286</td>\n",
       "      <td>0</td>\n",
       "      <td>0</td>\n",
       "      <td>85</td>\n",
       "      <td>385</td>\n",
       "      <td>0</td>\n",
       "      <td>0</td>\n",
       "    </tr>\n",
       "    <tr>\n",
       "      <th>3</th>\n",
       "      <td>503</td>\n",
       "      <td>Bird</td>\n",
       "      <td>Parakeet</td>\n",
       "      <td>97</td>\n",
       "      <td>White</td>\n",
       "      <td>Small</td>\n",
       "      <td>3.339423</td>\n",
       "      <td>0</td>\n",
       "      <td>0</td>\n",
       "      <td>61</td>\n",
       "      <td>217</td>\n",
       "      <td>1</td>\n",
       "      <td>0</td>\n",
       "    </tr>\n",
       "    <tr>\n",
       "      <th>4</th>\n",
       "      <td>504</td>\n",
       "      <td>Rabbit</td>\n",
       "      <td>Rabbit</td>\n",
       "      <td>123</td>\n",
       "      <td>Gray</td>\n",
       "      <td>Large</td>\n",
       "      <td>20.498100</td>\n",
       "      <td>0</td>\n",
       "      <td>0</td>\n",
       "      <td>28</td>\n",
       "      <td>14</td>\n",
       "      <td>1</td>\n",
       "      <td>0</td>\n",
       "    </tr>\n",
       "  </tbody>\n",
       "</table>\n",
       "</div>"
      ],
      "text/plain": [
       "   PetID PetType             Breed  AgeMonths   Color    Size   WeightKg  \\\n",
       "0    500    Bird          Parakeet        131  Orange   Large   5.039768   \n",
       "1    501  Rabbit            Rabbit         73   White   Large  16.086727   \n",
       "2    502     Dog  Golden Retriever        136  Orange  Medium   2.076286   \n",
       "3    503    Bird          Parakeet         97   White   Small   3.339423   \n",
       "4    504  Rabbit            Rabbit        123    Gray   Large  20.498100   \n",
       "\n",
       "   Vaccinated  HealthCondition  TimeInShelterDays  AdoptionFee  PreviousOwner  \\\n",
       "0           1                0                 27          140              0   \n",
       "1           0                0                  8          235              0   \n",
       "2           0                0                 85          385              0   \n",
       "3           0                0                 61          217              1   \n",
       "4           0                0                 28           14              1   \n",
       "\n",
       "   AdoptionLikelihood  \n",
       "0                   0  \n",
       "1                   0  \n",
       "2                   0  \n",
       "3                   0  \n",
       "4                   0  "
      ]
     },
     "execution_count": 2,
     "metadata": {},
     "output_type": "execute_result"
    }
   ],
   "source": [
    "data_frame = pd.read_csv(\"pet_adoption_data.csv\")\n",
    "data_frame.head()\n"
   ]
  },
  {
   "cell_type": "code",
   "execution_count": 35,
   "metadata": {},
   "outputs": [
    {
     "data": {
      "text/plain": [
       "array(['Orange', 'White', 'Gray', 'Brown', 'Black'], dtype=object)"
      ]
     },
     "execution_count": 35,
     "metadata": {},
     "output_type": "execute_result"
    }
   ],
   "source": [
    "data_frame['Color'].unique()"
   ]
  },
  {
   "cell_type": "code",
   "execution_count": 3,
   "metadata": {},
   "outputs": [
    {
     "name": "stdout",
     "output_type": "stream",
     "text": [
      "482 40\n",
      "226 16\n"
     ]
    },
    {
     "data": {
      "text/plain": [
       "MannwhitneyuResult(statistic=1315.5, pvalue=0.03450025015193805)"
      ]
     },
     "execution_count": 3,
     "metadata": {},
     "output_type": "execute_result"
    }
   ],
   "source": [
    "dogs = data_frame.query(\"PetType == 'Dog'\")\n",
    "dogs\n",
    "white_dogs = dogs.query(\"Color == 'White'\")\n",
    "small_dogs = white_dogs.query(\"Size == 'Small'\")\n",
    "else_dogs = dogs.query(\"Color != 'White'\")\n",
    "else_dogs = pd.concat([else_dogs,white_dogs.query(\"Size != 'Small'\")])\n",
    "print(len(else_dogs),len(small_dogs))\n",
    "small_dogs = small_dogs.query(\"AdoptionLikelihood == 1\")\n",
    "else_dogs = else_dogs.query(\"AdoptionLikelihood == 1\")\n",
    "print(len(else_dogs),len(small_dogs))\n",
    "stats.mannwhitneyu(np.array(small_dogs['TimeInShelterDays']),np.array(else_dogs['TimeInShelterDays']),alternative='less')"
   ]
  },
  {
   "cell_type": "code",
   "execution_count": 4,
   "metadata": {},
   "outputs": [],
   "source": [
    "def U_test(df, pet_type=None, breed=None, max_age_months=None, color=None, size=None, adopted = None,direction = 'two-sided'):\n",
    "    pets = filter_pets(df,pet_type, breed, max_age_months, color, size, adopted )\n",
    "    return stats.mannwhitneyu(np.array(pets[0]['TimeInShelterDays']),np.array(pets[1]['TimeInShelterDays']),alternative=direction)"
   ]
  },
  {
   "cell_type": "code",
   "execution_count": 5,
   "metadata": {},
   "outputs": [
    {
     "ename": "NameError",
     "evalue": "name 'filter_pets' is not defined",
     "output_type": "error",
     "traceback": [
      "\u001b[1;31m---------------------------------------------------------------------------\u001b[0m",
      "\u001b[1;31mNameError\u001b[0m                                 Traceback (most recent call last)",
      "Cell \u001b[1;32mIn[5], line 1\u001b[0m\n\u001b[1;32m----> 1\u001b[0m \u001b[43mU_test\u001b[49m\u001b[43m(\u001b[49m\u001b[43mdata_frame\u001b[49m\u001b[43m,\u001b[49m\u001b[43mpet_type\u001b[49m\u001b[38;5;241;43m=\u001b[39;49m\u001b[38;5;124;43m'\u001b[39;49m\u001b[38;5;124;43mCat\u001b[39;49m\u001b[38;5;124;43m'\u001b[39;49m\u001b[43m,\u001b[49m\u001b[43mcolor\u001b[49m\u001b[38;5;241;43m=\u001b[39;49m\u001b[38;5;124;43m'\u001b[39;49m\u001b[38;5;124;43mOrange\u001b[39;49m\u001b[38;5;124;43m'\u001b[39;49m\u001b[43m,\u001b[49m\u001b[43madopted\u001b[49m\u001b[38;5;241;43m=\u001b[39;49m\u001b[38;5;241;43m1\u001b[39;49m\u001b[43m,\u001b[49m\u001b[43mdirection\u001b[49m\u001b[38;5;241;43m=\u001b[39;49m\u001b[38;5;124;43m'\u001b[39;49m\u001b[38;5;124;43mgreater\u001b[39;49m\u001b[38;5;124;43m'\u001b[39;49m\u001b[43m)\u001b[49m\n",
      "Cell \u001b[1;32mIn[4], line 2\u001b[0m, in \u001b[0;36mU_test\u001b[1;34m(df, pet_type, breed, max_age_months, color, size, adopted, direction)\u001b[0m\n\u001b[0;32m      1\u001b[0m \u001b[38;5;28;01mdef\u001b[39;00m \u001b[38;5;21mU_test\u001b[39m(df, pet_type\u001b[38;5;241m=\u001b[39m\u001b[38;5;28;01mNone\u001b[39;00m, breed\u001b[38;5;241m=\u001b[39m\u001b[38;5;28;01mNone\u001b[39;00m, max_age_months\u001b[38;5;241m=\u001b[39m\u001b[38;5;28;01mNone\u001b[39;00m, color\u001b[38;5;241m=\u001b[39m\u001b[38;5;28;01mNone\u001b[39;00m, size\u001b[38;5;241m=\u001b[39m\u001b[38;5;28;01mNone\u001b[39;00m, adopted \u001b[38;5;241m=\u001b[39m \u001b[38;5;28;01mNone\u001b[39;00m,direction \u001b[38;5;241m=\u001b[39m \u001b[38;5;124m'\u001b[39m\u001b[38;5;124mtwo-sided\u001b[39m\u001b[38;5;124m'\u001b[39m):\n\u001b[1;32m----> 2\u001b[0m     pets \u001b[38;5;241m=\u001b[39m \u001b[43mfilter_pets\u001b[49m(df,pet_type, breed, max_age_months, color, size, adopted )\n\u001b[0;32m      3\u001b[0m     \u001b[38;5;28;01mreturn\u001b[39;00m stats\u001b[38;5;241m.\u001b[39mmannwhitneyu(np\u001b[38;5;241m.\u001b[39marray(pets[\u001b[38;5;241m0\u001b[39m][\u001b[38;5;124m'\u001b[39m\u001b[38;5;124mTimeInShelterDays\u001b[39m\u001b[38;5;124m'\u001b[39m]),np\u001b[38;5;241m.\u001b[39marray(pets[\u001b[38;5;241m1\u001b[39m][\u001b[38;5;124m'\u001b[39m\u001b[38;5;124mTimeInShelterDays\u001b[39m\u001b[38;5;124m'\u001b[39m]),alternative\u001b[38;5;241m=\u001b[39mdirection)\n",
      "\u001b[1;31mNameError\u001b[0m: name 'filter_pets' is not defined"
     ]
    }
   ],
   "source": [
    "U_test(data_frame,pet_type='Cat',color='Orange',adopted=1,direction='greater')"
   ]
  },
  {
   "cell_type": "code",
   "execution_count": null,
   "metadata": {},
   "outputs": [
    {
     "data": {
      "text/plain": [
       "MannwhitneyuResult(statistic=1315.5, pvalue=0.03450025015193805)"
      ]
     },
     "execution_count": 160,
     "metadata": {},
     "output_type": "execute_result"
    }
   ],
   "source": [
    "U_test(data_frame,pet_type='Dog',size='Small',color='White',adopted=1,direction='less')"
   ]
  },
  {
   "cell_type": "markdown",
   "metadata": {},
   "source": [
    "find the empirical function of small_white_dog and orange_cats"
   ]
  },
  {
   "cell_type": "code",
   "execution_count": null,
   "metadata": {},
   "outputs": [],
   "source": [
    "def filter_pets(df, pet_type=None, breed=None, max_age_months=None, color=None, size=None, adopted = None):\n",
    "    \"\"\"\n",
    "    Filter the pets DataFrame based on specified criteria.\n",
    "    \n",
    "    Parameters:\n",
    "    df (pd.DataFrame): The DataFrame containing pet data.\n",
    "    pet_type (str): The type of pet to filter by.\n",
    "    breed (str): The breed of the pet to filter by.\n",
    "    max_age_months (int): The maximum age of the pet in months to filter by (pets younger than this age).\n",
    "    color (str): The color of the pet to filter by. ('white', 'black', 'orange')\n",
    "    size (str): The size of the pet to filter by. ('small', 'medium', 'large')\n",
    "    \n",
    "    Returns:\n",
    "    pd.DataFrame: A DataFrame filtered by the specified criteria.\n",
    "    pd.DataFrame: A complementary DataFrame with pets that do not match the criteria.\n",
    "    \"\"\"\n",
    "    \n",
    "    df_filtered = df\n",
    "    df_complementary = df\n",
    "    \n",
    "    # Filter by pet type if specified\n",
    "    if pet_type:\n",
    "        df_filtered = df_filtered[df_filtered['PetType'] == pet_type]\n",
    "        df_complementary = df_complementary[df_complementary['PetType'] == pet_type]\n",
    "        \n",
    "    # Apply filters to get the main subset\n",
    "    if breed:\n",
    "        df_filtered = df_filtered[df_filtered['Breed'] == breed]\n",
    "    if max_age_months is not None:\n",
    "        df_filtered = df_filtered[df_filtered['AgeMonths'] < max_age_months]\n",
    "    if color:\n",
    "        df_filtered = df_filtered[df_filtered['Color'] == color]\n",
    "\n",
    "    if adopted:\n",
    "        df_filtered = df_filtered[df_filtered['AdoptionLikelihood'] == adopted]\n",
    "        df_complementary = df_complementary[df_complementary['AdoptionLikelihood'] == adopted]\n",
    "    if size:\n",
    "        df_filtered = df_filtered[df_filtered['Size'] == size]\n",
    "    \n",
    "    # Create the complementary subset by excluding the filtered results\n",
    "    df_complementary = df_complementary[~df_complementary.index.isin(df_filtered.index)]\n",
    "    \n",
    "    return df_filtered, df_complementary"
   ]
  },
  {
   "cell_type": "code",
   "execution_count": null,
   "metadata": {},
   "outputs": [
    {
     "data": {
      "text/html": [
       "<div>\n",
       "<style scoped>\n",
       "    .dataframe tbody tr th:only-of-type {\n",
       "        vertical-align: middle;\n",
       "    }\n",
       "\n",
       "    .dataframe tbody tr th {\n",
       "        vertical-align: top;\n",
       "    }\n",
       "\n",
       "    .dataframe thead th {\n",
       "        text-align: right;\n",
       "    }\n",
       "</style>\n",
       "<table border=\"1\" class=\"dataframe\">\n",
       "  <thead>\n",
       "    <tr style=\"text-align: right;\">\n",
       "      <th></th>\n",
       "      <th>PetID</th>\n",
       "      <th>PetType</th>\n",
       "      <th>Breed</th>\n",
       "      <th>AgeMonths</th>\n",
       "      <th>Color</th>\n",
       "      <th>Size</th>\n",
       "      <th>WeightKg</th>\n",
       "      <th>Vaccinated</th>\n",
       "      <th>HealthCondition</th>\n",
       "      <th>TimeInShelterDays</th>\n",
       "      <th>AdoptionFee</th>\n",
       "      <th>PreviousOwner</th>\n",
       "      <th>AdoptionLikelihood</th>\n",
       "    </tr>\n",
       "  </thead>\n",
       "  <tbody>\n",
       "    <tr>\n",
       "      <th>23</th>\n",
       "      <td>523</td>\n",
       "      <td>Dog</td>\n",
       "      <td>Golden Retriever</td>\n",
       "      <td>86</td>\n",
       "      <td>White</td>\n",
       "      <td>Small</td>\n",
       "      <td>8.475576</td>\n",
       "      <td>1</td>\n",
       "      <td>0</td>\n",
       "      <td>30</td>\n",
       "      <td>405</td>\n",
       "      <td>0</td>\n",
       "      <td>0</td>\n",
       "    </tr>\n",
       "    <tr>\n",
       "      <th>54</th>\n",
       "      <td>554</td>\n",
       "      <td>Dog</td>\n",
       "      <td>Golden Retriever</td>\n",
       "      <td>23</td>\n",
       "      <td>White</td>\n",
       "      <td>Small</td>\n",
       "      <td>26.127081</td>\n",
       "      <td>1</td>\n",
       "      <td>0</td>\n",
       "      <td>63</td>\n",
       "      <td>206</td>\n",
       "      <td>0</td>\n",
       "      <td>1</td>\n",
       "    </tr>\n",
       "    <tr>\n",
       "      <th>164</th>\n",
       "      <td>664</td>\n",
       "      <td>Dog</td>\n",
       "      <td>Labrador</td>\n",
       "      <td>130</td>\n",
       "      <td>White</td>\n",
       "      <td>Small</td>\n",
       "      <td>18.482545</td>\n",
       "      <td>1</td>\n",
       "      <td>0</td>\n",
       "      <td>36</td>\n",
       "      <td>18</td>\n",
       "      <td>0</td>\n",
       "      <td>1</td>\n",
       "    </tr>\n",
       "    <tr>\n",
       "      <th>182</th>\n",
       "      <td>682</td>\n",
       "      <td>Dog</td>\n",
       "      <td>Poodle</td>\n",
       "      <td>4</td>\n",
       "      <td>White</td>\n",
       "      <td>Small</td>\n",
       "      <td>4.422175</td>\n",
       "      <td>1</td>\n",
       "      <td>0</td>\n",
       "      <td>1</td>\n",
       "      <td>222</td>\n",
       "      <td>0</td>\n",
       "      <td>1</td>\n",
       "    </tr>\n",
       "    <tr>\n",
       "      <th>188</th>\n",
       "      <td>688</td>\n",
       "      <td>Dog</td>\n",
       "      <td>Poodle</td>\n",
       "      <td>124</td>\n",
       "      <td>White</td>\n",
       "      <td>Small</td>\n",
       "      <td>6.071634</td>\n",
       "      <td>1</td>\n",
       "      <td>0</td>\n",
       "      <td>7</td>\n",
       "      <td>9</td>\n",
       "      <td>0</td>\n",
       "      <td>0</td>\n",
       "    </tr>\n",
       "  </tbody>\n",
       "</table>\n",
       "</div>"
      ],
      "text/plain": [
       "     PetID PetType             Breed  AgeMonths  Color   Size   WeightKg  \\\n",
       "23     523     Dog  Golden Retriever         86  White  Small   8.475576   \n",
       "54     554     Dog  Golden Retriever         23  White  Small  26.127081   \n",
       "164    664     Dog          Labrador        130  White  Small  18.482545   \n",
       "182    682     Dog            Poodle          4  White  Small   4.422175   \n",
       "188    688     Dog            Poodle        124  White  Small   6.071634   \n",
       "\n",
       "     Vaccinated  HealthCondition  TimeInShelterDays  AdoptionFee  \\\n",
       "23            1                0                 30          405   \n",
       "54            1                0                 63          206   \n",
       "164           1                0                 36           18   \n",
       "182           1                0                  1          222   \n",
       "188           1                0                  7            9   \n",
       "\n",
       "     PreviousOwner  AdoptionLikelihood  \n",
       "23               0                   0  \n",
       "54               0                   1  \n",
       "164              0                   1  \n",
       "182              0                   1  \n",
       "188              0                   0  "
      ]
     },
     "execution_count": 162,
     "metadata": {},
     "output_type": "execute_result"
    }
   ],
   "source": [
    "dogs = data_frame.query(\"PetType == 'Dog'\")\n",
    "white_dogs = dogs.query(\"Color == 'White'\")\n",
    "small_dogs = white_dogs.query(\"Size == 'Small'\")\n",
    "small_dogs.head()"
   ]
  },
  {
   "cell_type": "code",
   "execution_count": null,
   "metadata": {},
   "outputs": [
    {
     "name": "stdout",
     "output_type": "stream",
     "text": [
      "16 226\n",
      "     PetID PetType             Breed  AgeMonths  Color   Size   WeightKg  \\\n",
      "54     554     Dog  Golden Retriever         23  White  Small  26.127081   \n",
      "164    664     Dog          Labrador        130  White  Small  18.482545   \n",
      "182    682     Dog            Poodle          4  White  Small   4.422175   \n",
      "536   1036     Dog          Labrador         39  White  Small   5.211526   \n",
      "858   1358     Dog          Labrador        131  White  Small  24.473397   \n",
      "\n",
      "     Vaccinated  HealthCondition  TimeInShelterDays  AdoptionFee  \\\n",
      "54            1                0                 63          206   \n",
      "164           1                0                 36           18   \n",
      "182           1                0                  1          222   \n",
      "536           1                0                  9          307   \n",
      "858           1                0                 51          119   \n",
      "\n",
      "     PreviousOwner  AdoptionLikelihood  \n",
      "54               0                   1  \n",
      "164              0                   1  \n",
      "182              0                   1  \n",
      "536              0                   1  \n",
      "858              0                   1  \n",
      "    PetID PetType             Breed  AgeMonths  Color    Size   WeightKg  \\\n",
      "22    522     Dog          Labrador          3   Gray   Large  15.576273   \n",
      "38    538     Dog  Golden Retriever         31   Gray  Medium  24.757792   \n",
      "41    541     Dog          Labrador        106  Black  Medium   7.178024   \n",
      "77    577     Dog          Labrador        105  Brown  Medium  12.168078   \n",
      "79    579     Dog            Poodle          2  White   Large   2.290762   \n",
      "\n",
      "    Vaccinated  HealthCondition  TimeInShelterDays  AdoptionFee  \\\n",
      "22           1                0                 50          369   \n",
      "38           1                0                  1          358   \n",
      "41           0                0                 79          333   \n",
      "77           1                0                 30          401   \n",
      "79           1                0                 66          139   \n",
      "\n",
      "    PreviousOwner  AdoptionLikelihood  \n",
      "22              1                   1  \n",
      "38              0                   1  \n",
      "41              1                   1  \n",
      "77              0                   1  \n",
      "79              1                   1  \n"
     ]
    }
   ],
   "source": [
    "check = filter_pets(data_frame,pet_type=\"Dog\",color=\"White\",size=\"Small\",adopted=1)\n",
    "print(len(check[0]),len(check[1]))\n",
    "print(check[0].head())\n",
    "print(check[1].head())\n"
   ]
  },
  {
   "cell_type": "code",
   "execution_count": null,
   "metadata": {},
   "outputs": [
    {
     "data": {
      "image/png": "[encoded data removed]",
      "text/plain": [
       "<Figure size 800x600 with 1 Axes>"
      ]
     },
     "metadata": {},
     "output_type": "display_data"
    }
   ],
   "source": [
    "\n",
    "\n",
    "\n",
    "import matplotlib.pyplot as plt\n",
    "from statsmodels.distributions.empirical_distribution import ECDF\n",
    "\n",
    "dogs_df = check[0]\n",
    "time_in_shelter = dogs_df['TimeInShelterDays']\n",
    "\n",
    "# Compute the ECDF\n",
    "ecdf = ECDF(time_in_shelter)\n",
    "\n",
    "#complanitory\n",
    "dogs_df_comp = check[1]\n",
    "time_in_shelter_comp = dogs_df_comp['TimeInShelterDays']\n",
    "\n",
    "# Compute the ECDF\n",
    "ecdf_comp = ECDF(time_in_shelter_comp)\n",
    "\n",
    "# Plot the ECDF\n",
    "plt.figure(figsize=(8, 6))\n",
    "plt.step(ecdf.x, ecdf.y, where='post', label='ECDF', color='blue')\n",
    "plt.step(ecdf_comp.x, ecdf_comp.y, where='post', label='ECDF_comp', color='orange')\n",
    "\n",
    "plt.xlabel('Time in Shelter (days)')\n",
    "plt.ylabel('ECDF')\n",
    "plt.title('ECDF of Time in Shelter for Dogs')\n",
    "plt.legend()\n",
    "plt.grid(True)\n",
    "plt.show()\n"
   ]
  },
  {
   "cell_type": "markdown",
   "metadata": {},
   "source": [
    "lets check if each pet type distribute normal - we will use kolmogorov - smirnof.(using to test wheater or not sample comes from certin distribution)"
   ]
  },
  {
   "cell_type": "code",
   "execution_count": null,
   "metadata": {},
   "outputs": [
    {
     "data": {
      "text/plain": [
       "KstestResult(statistic=0.9821211763485351, pvalue=0.0)"
      ]
     },
     "execution_count": 173,
     "metadata": {},
     "output_type": "execute_result"
    }
   ],
   "source": [
    "from scipy.stats import kstest\n",
    "import numpy\n",
    "\n",
    "data = filter_pets(data_frame,adopted=1,pet_type=\"Dog\")[0]\n",
    "#print(data.head(),data['TimeInShelterDays'].to_numpy())\n",
    "#perform Kolmogorov-Smirnov test\n",
    "kstest(data['TimeInShelterDays'].to_numpy(), 'norm')"
   ]
  },
  {
   "cell_type": "code",
   "execution_count": null,
   "metadata": {},
   "outputs": [
    {
     "data": {
      "text/plain": [
       "<seaborn.axisgrid.FacetGrid at 0x1fc5aae48e0>"
      ]
     },
     "execution_count": 194,
     "metadata": {},
     "output_type": "execute_result"
    },
    {
     "data": {
      "image/png": "[encoded data removed]",
      "text/plain": [
       "<Figure size 500x500 with 1 Axes>"
      ]
     },
     "metadata": {},
     "output_type": "display_data"
    }
   ],
   "source": [
    "import seaborn as sns\n",
    "data = filter_pets(data_frame,adopted=1,pet_type=\"Dog\",max_age_months=6)[1]\n",
    "#print(data['TimeInShelterDays'])\n",
    "sns.displot(data,x=\"TimeInShelterDays\")"
   ]
  },
  {
   "cell_type": "code",
   "execution_count": null,
   "metadata": {},
   "outputs": [],
   "source": []
  },
  {
   "cell_type": "markdown",
   "metadata": {},
   "source": [
    "learning prediction"
   ]
  },
  {
   "cell_type": "code",
   "execution_count": null,
   "metadata": {},
   "outputs": [
    {
     "name": "stdout",
     "output_type": "stream",
     "text": [
      "MAE: 22.717651515151513\n",
      "21.009273201171805\n",
      "RMSE: 25.99090704924367\n"
     ]
    }
   ],
   "source": [
    "\n",
    "\n",
    "from sklearn.model_selection import train_test_split\n",
    "from sklearn.ensemble import RandomForestRegressor\n",
    "from sklearn.metrics import mean_absolute_error, mean_squared_error\n",
    "import pandas as pd\n",
    "\n",
    "# Load data\n",
    "data = data_frame\n",
    "\n",
    "\n",
    "# Filter the data where AdoptionLikelihood is 1\n",
    "data = data[data['AdoptionLikelihood'] == 1]\n",
    "data = data.drop(columns=['PetID'])\n",
    "# Preprocessing (example)\n",
    "data = pd.get_dummies(data, columns=['PetType','Breed', 'Color', 'Size', 'Vaccinated', 'HealthCondition'])\n",
    "X = data.drop(columns=['TimeInShelterDays'])\n",
    "y = data['TimeInShelterDays']\n",
    "\n",
    "# Split data\n",
    "X_train, X_test, y_train, y_test = train_test_split(X, y, test_size=0.2, random_state=42)\n",
    "\n",
    "# Train model\n",
    "model = RandomForestRegressor(n_estimators=100, random_state=42)\n",
    "model.fit(X_train, y_train)\n",
    "\n",
    "# Predictions\n",
    "y_pred = model.predict(X_test)\n",
    "\n",
    "# Evaluation\n",
    "mae = mean_absolute_error(y_test, y_pred)\n",
    "mse = mean_squared_error(y_test, y_pred)\n",
    "rmse = mse**0.5\n",
    "\n",
    "print(f'MAE: {mae}')\n",
    "print(mae/data_frame['TimeInShelterDays'].std())\n",
    "print(f'RMSE: {rmse}')\n",
    "\n"
   ]
  },
  {
   "cell_type": "code",
   "execution_count": null,
   "metadata": {},
   "outputs": [
    {
     "name": "stdout",
     "output_type": "stream",
     "text": [
      "['AgeMonths', 'WeightKg', 'AdoptionFee', 'PreviousOwner', 'AdoptionLikelihood', 'PetType_Bird', 'PetType_Cat', 'PetType_Dog', 'PetType_Rabbit', 'Breed_Golden Retriever', 'Breed_Labrador', 'Breed_Parakeet', 'Breed_Persian', 'Breed_Poodle', 'Breed_Rabbit', 'Breed_Siamese', 'Color_Black', 'Color_Brown', 'Color_Gray', 'Color_Orange', 'Color_White', 'Size_Large', 'Size_Medium', 'Size_Small', 'Vaccinated_0', 'Vaccinated_1', 'HealthCondition_0', 'HealthCondition_1']\n"
     ]
    }
   ],
   "source": [
    "print(list(X_test.columns))"
   ]
  },
  {
   "cell_type": "code",
   "execution_count": null,
   "metadata": {},
   "outputs": [
    {
     "name": "stdout",
     "output_type": "stream",
     "text": [
      "[53.94 35.88 33.82 38.4  47.2  35.02 37.99 32.16 47.1  53.22 50.02 45.27\n",
      " 54.03 51.15 56.   43.72 30.26 28.95 43.85 41.25 56.66 41.87 33.06 36.49\n",
      " 39.82 42.13 50.19 44.24 46.2  31.78 59.65 43.08 46.21 48.16 39.27 52.54\n",
      " 52.41 52.98 41.1  51.6  39.93 38.66 43.31 47.78 42.19 42.43 44.51 53.89\n",
      " 35.79 25.14 47.35 41.63 43.86 39.91 47.93 43.45 52.58 52.72 50.68 36.16\n",
      " 26.06 33.72 29.04 43.35 56.86 40.17 35.55 28.72 42.17 43.6  44.65 52.05\n",
      " 39.25 47.42 46.99 40.47 40.88 48.8  45.   36.14 31.89 40.47 39.35 46.77\n",
      " 41.9  55.26 46.98 38.6  39.33 43.04 48.83 56.08 47.62 43.58 40.88 47.05\n",
      " 42.96 43.3  55.36 35.78 43.13 57.55 43.99 46.35 51.87 41.06 45.87 45.45\n",
      " 41.55 35.83 41.01 44.43 43.71 49.93 41.8  32.48 60.07 45.94 47.62 41.3\n",
      " 36.58 35.8  51.61 53.22 44.   47.44 42.96 53.98 48.76 55.43 48.91 43.87]\n"
     ]
    }
   ],
   "source": [
    "print(model.predict(X_test))"
   ]
  },
  {
   "cell_type": "markdown",
   "metadata": {},
   "source": [
    "linear regression"
   ]
  },
  {
   "cell_type": "code",
   "execution_count": null,
   "metadata": {},
   "outputs": [
    {
     "name": "stdout",
     "output_type": "stream",
     "text": [
      "MAE: 20.822018131247052\n",
      "MSE: 572.9094060571563\n",
      "RMSE: 23.935526024241796\n",
      "R-squared: 0.005887026789267558\n"
     ]
    },
    {
     "data": {
      "image/png": "[encoded data removed]",
      "text/plain": [
       "<Figure size 1000x600 with 2 Axes>"
      ]
     },
     "metadata": {},
     "output_type": "display_data"
    }
   ],
   "source": [
    "import pandas as pd\n",
    "from sklearn.model_selection import train_test_split\n",
    "from sklearn.linear_model import LinearRegression\n",
    "from sklearn.metrics import mean_absolute_error, mean_squared_error, r2_score\n",
    "from sklearn.preprocessing import StandardScaler\n",
    "\n",
    "\n",
    "# Load data\n",
    "data = data_frame\n",
    "\n",
    "\n",
    "# Filter the data where AdoptionLikelihood is 1\n",
    "data = data[data['AdoptionLikelihood'] == 1]\n",
    "data = data.drop(columns=['PetID'])\n",
    "# Preprocessing (example)\n",
    "data = pd.get_dummies(data, columns=['PetType','Breed','Size', 'Color', 'Size', 'Vaccinated', 'HealthCondition'])\n",
    "\n",
    "y = data['TimeInShelterDays']\n",
    "X = data.drop(columns=['TimeInShelterDays'])\n",
    "\n",
    "\n",
    "# Normalize numerical features\n",
    "numerical_features = ['AgeMonths', 'WeightKg', 'AdoptionFee']\n",
    "scaler = StandardScaler()\n",
    "X[numerical_features] = scaler.fit_transform(X[numerical_features])\n",
    "\n",
    "# Split data into training and test sets\n",
    "X_train, X_test, y_train, y_test = train_test_split(X, y, test_size=0.2, random_state=42)\n",
    "\n",
    "# Train Linear Regression model\n",
    "linear_model = LinearRegression()\n",
    "linear_model.fit(X_train, y_train)\n",
    "\n",
    "# Predictions\n",
    "y_pred = linear_model.predict(X_test)\n",
    "\n",
    "# Evaluation\n",
    "mae = mean_absolute_error(y_test, y_pred)\n",
    "mse = mean_squared_error(y_test, y_pred)\n",
    "rmse = mse**0.5\n",
    "r2 = r2_score(y_test, y_pred)\n",
    "\n",
    "print(f'MAE: {mae}')\n",
    "print(f'MSE: {mse}')\n",
    "print(f'RMSE: {rmse}')\n",
    "print(f'R-squared: {r2}')\n",
    "\n",
    "# Residual Analysis\n",
    "residuals = y_test - y_pred\n",
    "\n",
    "# Plotting residuals\n",
    "import matplotlib.pyplot as plt\n",
    "import seaborn as sns\n",
    "\n",
    "plt.figure(figsize=(10, 6))\n",
    "\n",
    "# Residuals plot\n",
    "plt.subplot(2, 1, 1)\n",
    "plt.scatter(y_test, residuals)\n",
    "plt.axhline(y=0, color='r', linestyle='--')\n",
    "plt.xlabel('Actual Time in Shelter')\n",
    "plt.ylabel('Residuals')\n",
    "plt.title('Residuals vs Actual Time in Shelter')\n",
    "\n",
    "# Distribution of residuals\n",
    "plt.subplot(2, 1, 2)\n",
    "sns.histplot(residuals, kde=True)\n",
    "plt.xlabel('Residuals')\n",
    "plt.title('Distribution of Residuals')\n",
    "\n",
    "plt.tight_layout()\n",
    "plt.show()\n"
   ]
  },
  {
   "cell_type": "markdown",
   "metadata": {},
   "source": [
    "now we will check if the pet types means are distributed differently, by the law of large numbers, we have more than 30 samples for each pet type so we know the mean of each type is distributed normally."
   ]
  },
  {
   "cell_type": "markdown",
   "metadata": {},
   "source": [
    "leets check if there is a difference in the TimeInShelter:"
   ]
  },
  {
   "cell_type": "code",
   "execution_count": 29,
   "metadata": {},
   "outputs": [
    {
     "name": "stdout",
     "output_type": "stream",
     "text": [
      "Levene's test statistic: 0.23851512236587893\n",
      "Levene's test p-value: 0.8695050066659501\n",
      "Variances are homogeneous. Proceeding with ANOVA.\n"
     ]
    },
    {
     "ename": "AttributeError",
     "evalue": "module 'scipy.stats' has no attribute 'f_twoway'",
     "output_type": "error",
     "traceback": [
      "\u001b[1;31m---------------------------------------------------------------------------\u001b[0m",
      "\u001b[1;31mAttributeError\u001b[0m                            Traceback (most recent call last)",
      "Cell \u001b[1;32mIn[29], line 23\u001b[0m\n\u001b[0;32m     21\u001b[0m \u001b[38;5;28mprint\u001b[39m(\u001b[38;5;124m\"\u001b[39m\u001b[38;5;124mVariances are homogeneous. Proceeding with ANOVA.\u001b[39m\u001b[38;5;124m\"\u001b[39m)\n\u001b[0;32m     22\u001b[0m \u001b[38;5;66;03m# Perform ANOVA\u001b[39;00m\n\u001b[1;32m---> 23\u001b[0m f_statistic, p_value \u001b[38;5;241m=\u001b[39m \u001b[43mstats\u001b[49m\u001b[38;5;241;43m.\u001b[39;49m\u001b[43mf_twoway\u001b[49m(\u001b[38;5;241m*\u001b[39mall_data)\n\u001b[0;32m     24\u001b[0m \u001b[38;5;28mprint\u001b[39m(\u001b[38;5;124mf\u001b[39m\u001b[38;5;124m'\u001b[39m\u001b[38;5;124mF-statistic: \u001b[39m\u001b[38;5;132;01m{\u001b[39;00mf_statistic\u001b[38;5;132;01m}\u001b[39;00m\u001b[38;5;124m'\u001b[39m)\n\u001b[0;32m     25\u001b[0m \u001b[38;5;28mprint\u001b[39m(\u001b[38;5;124mf\u001b[39m\u001b[38;5;124m'\u001b[39m\u001b[38;5;124mP-value: \u001b[39m\u001b[38;5;132;01m{\u001b[39;00mp_value\u001b[38;5;132;01m}\u001b[39;00m\u001b[38;5;124m'\u001b[39m)\n",
      "\u001b[1;31mAttributeError\u001b[0m: module 'scipy.stats' has no attribute 'f_twoway'"
     ]
    }
   ],
   "source": [
    "\n",
    "\n",
    "# Filter the data where AdoptionLikelihood is 1\n",
    "data = data_frame[data_frame['AdoptionLikelihood'] == 1]\n",
    "\n",
    "\n",
    "# Example data: Time in shelter until adoption for four different pet types\n",
    "dogs=data[data['PetType'] == 'Dog']['TimeInShelterDays'].values.tolist()\n",
    "cats=data[data['PetType'] == 'Cat']['TimeInShelterDays'].values.tolist()\n",
    "birds=data[data['PetType'] == 'Bird']['TimeInShelterDays'].values.tolist()\n",
    "rabbits = data[data['PetType'] == 'Rabbit']['TimeInShelterDays'].values.tolist()\n",
    "\n",
    "# Combine all data to check for homogeneity of variances\n",
    "all_data = [dogs, cats, birds, rabbits]\n",
    "\n",
    "# Perform Levene's test for homogeneity of variances\n",
    "levene_stat, levene_p = stats.levene(*all_data)\n",
    "print(f\"Levene's test statistic: {levene_stat}\")\n",
    "print(f\"Levene's test p-value: {levene_p}\")\n",
    "\n",
    "# If Levene's test p-value is > 0.05, we can assume homogeneity of variances\n",
    "if levene_p > 0.05:\n",
    "    print(\"Variances are homogeneous. Proceeding with ANOVA.\")\n",
    "    # Perform ANOVA\n",
    "    f_statistic, p_value = stats.f_twoway(*all_data)\n",
    "    print(f'F-statistic: {f_statistic}')\n",
    "    print(f'P-value: {p_value}')\n",
    "\n",
    "    # Interpreting the p-value\n",
    "    alpha = 0.05\n",
    "    if p_value < alpha:\n",
    "        print(\"There is a significant difference between the means of the different pet types.\")\n",
    "    else:\n",
    "        print(\"There is no significant difference between the means of the different pet types.\")\n",
    "else:\n",
    "    print(\"Variances are not homogeneous. Consider using Welch's ANOVA or a transformation.\")\n"
   ]
  },
  {
   "cell_type": "markdown",
   "metadata": {},
   "source": [
    "lets performe H-test"
   ]
  },
  {
   "cell_type": "code",
   "execution_count": 26,
   "metadata": {},
   "outputs": [
    {
     "ename": "AttributeError",
     "evalue": "'list' object has no attribute 'to_numpy'",
     "output_type": "error",
     "traceback": [
      "\u001b[1;31m---------------------------------------------------------------------------\u001b[0m",
      "\u001b[1;31mAttributeError\u001b[0m                            Traceback (most recent call last)",
      "Cell \u001b[1;32mIn[26], line 1\u001b[0m\n\u001b[1;32m----> 1\u001b[0m a\u001b[38;5;241m=\u001b[39m\u001b[43m[\u001b[49m\u001b[38;5;241;43m1\u001b[39;49m\u001b[43m,\u001b[49m\u001b[38;5;241;43m2\u001b[39;49m\u001b[43m,\u001b[49m\u001b[38;5;241;43m3\u001b[39;49m\u001b[43m,\u001b[49m\u001b[38;5;241;43m4\u001b[39;49m\u001b[43m,\u001b[49m\u001b[38;5;241;43m5\u001b[39;49m\u001b[43m]\u001b[49m\u001b[38;5;241;43m.\u001b[39;49m\u001b[43mto_numpy\u001b[49m()\n\u001b[0;32m      2\u001b[0m b\u001b[38;5;241m=\u001b[39m[\u001b[38;5;241m5\u001b[39m,\u001b[38;5;241m6\u001b[39m,\u001b[38;5;241m7\u001b[39m,\u001b[38;5;241m8\u001b[39m,\u001b[38;5;241m9\u001b[39m,\u001b[38;5;241m10\u001b[39m,\u001b[38;5;241m11\u001b[39m]\u001b[38;5;241m.\u001b[39mto_numpy()\n\u001b[0;32m      3\u001b[0m \u001b[38;5;28mprint\u001b[39m(a\u001b[38;5;241m+\u001b[39mb)\n",
      "\u001b[1;31mAttributeError\u001b[0m: 'list' object has no attribute 'to_numpy'"
     ]
    }
   ],
   "source": [
    "a=[1,2,3,4,5].to_numpy()\n",
    "b=[5,6,7,8,9,10,11].to_numpy()\n",
    "print(a+b)"
   ]
  },
  {
   "cell_type": "code",
   "execution_count": 28,
   "metadata": {},
   "outputs": [
    {
     "data": {
      "image/png": "[encoded data removed]",
      "text/plain": [
       "<Figure size 1000x600 with 1 Axes>"
      ]
     },
     "metadata": {},
     "output_type": "display_data"
    },
    {
     "name": "stdout",
     "output_type": "stream",
     "text": [
      "H-statistic: 3.099545761112684\n",
      "P-value: 0.37653037399696454\n",
      "There is no significant difference between the medians of the different pet types.\n"
     ]
    }
   ],
   "source": [
    "import matplotlib.pyplot as plt\n",
    "import seaborn as sns\n",
    "\n",
    "\n",
    "# Combine data into a DataFrame for visualizations\n",
    "data = {\n",
    "    'Pet Type': ['Dogs'] * len(dogs) + ['Cats'] * len(cats) + ['Birds'] * len(birds) + ['Rabbits'] * len(rabbits),\n",
    "    'Shelter Time': dogs + cats + birds + rabbits\n",
    "}\n",
    "df = pd.DataFrame(data)\n",
    "\n",
    "# Create a boxplot to visualize the distribution of each group\n",
    "plt.figure(figsize=(10, 6))\n",
    "sns.boxplot(x='Pet Type', y='Shelter Time', data=df)\n",
    "plt.title('Boxplot of Shelter Time by Pet Type')\n",
    "plt.show()\n",
    "\n",
    "\n",
    "# Perform Kruskal-Wallis H test\n",
    "h_statistic, p_value = stats.kruskal(dogs, cats, birds, rabbits)\n",
    "\n",
    "print(f'H-statistic: {h_statistic}')\n",
    "print(f'P-value: {p_value}')\n",
    "\n",
    "# Interpreting the p-value\n",
    "alpha = 0.05\n",
    "if p_value < alpha:\n",
    "    print(\"There is a significant difference between the medians of the different pet types.\")\n",
    "else:\n",
    "    print(\"There is no significant difference between the medians of the different pet types.\")"
   ]
  },
  {
   "cell_type": "markdown",
   "metadata": {},
   "source": [
    "now because we know There is no significant difference between the medians of the different pet types lets performe H-test on different features until we encounter a change:"
   ]
  },
  {
   "cell_type": "code",
   "execution_count": 37,
   "metadata": {},
   "outputs": [
    {
     "data": {
      "image/png": "[encoded data removed]",
      "text/plain": [
       "<Figure size 1000x600 with 1 Axes>"
      ]
     },
     "metadata": {},
     "output_type": "display_data"
    },
    {
     "name": "stdout",
     "output_type": "stream",
     "text": [
      "H-statistic: 5.709933276808402\n",
      "P-value: 0.22188317252023101\n",
      "There is no significant difference between the medians of the different pet colors.\n"
     ]
    }
   ],
   "source": [
    "# Filter the data where AdoptionLikelihood is 1\n",
    "data = data_frame[data_frame['AdoptionLikelihood'] == 1]\n",
    "\n",
    "# Example data: Time in shelter until adoption for four different color\n",
    "Black=data[data['Color'] == 'Black']['TimeInShelterDays'].values.tolist()\n",
    "Brown=data[data['Color'] == 'Brown']['TimeInShelterDays'].values.tolist()\n",
    "Gray=data[data['Color'] == 'Gray']['TimeInShelterDays'].values.tolist()\n",
    "White = data[data['Color'] == 'White']['TimeInShelterDays'].values.tolist()\n",
    "Orange = data[data['Color'] == 'Orange']['TimeInShelterDays'].values.tolist()\n",
    "\n",
    "\n",
    "# Combine data into a DataFrame for visualizations\n",
    "color_labels = (\n",
    "    ['Black'] * len(Black) + \n",
    "    ['Brown'] * len(Brown) + \n",
    "    ['Gray'] * len(Gray) + \n",
    "    ['White'] * len(White) + \n",
    "    ['Orange'] * len(Orange)\n",
    ")\n",
    "time_in_shelter = Black + Brown + Gray + White + Orange\n",
    "\n",
    "data_for_plot = {\n",
    "    'Color': color_labels,\n",
    "    'TimeInShelterDays': time_in_shelter\n",
    "}\n",
    "df = pd.DataFrame(data_for_plot)\n",
    "\n",
    "# Create a boxplot to visualize the distribution of each group\n",
    "plt.figure(figsize=(10, 6))\n",
    "sns.boxplot(x='Color', y='TimeInShelterDays', data=df)\n",
    "plt.title('Boxplot of Shelter Time by Pet Color')\n",
    "plt.show()\n",
    "\n",
    "# Perform Kruskal-Wallis H test\n",
    "h_statistic, p_value = stats.kruskal(Black, Brown, Gray, White, Orange)\n",
    "\n",
    "print(f'H-statistic: {h_statistic}')\n",
    "print(f'P-value: {p_value}')\n",
    "\n",
    "# Interpreting the p-value\n",
    "alpha = 0.05\n",
    "if p_value < alpha:\n",
    "    print(\"There is a significant difference between the medians of the different pet colors.\")\n",
    "else:\n",
    "    print(\"There is no significant difference between the medians of the different pet colors.\")\n",
    "\n"
   ]
  }
 ],
 "metadata": {
  "kernelspec": {
   "display_name": "Python 3",
   "language": "python",
   "name": "python3"
  },
  "language_info": {
   "codemirror_mode": {
    "name": "ipython",
    "version": 3
   },
   "file_extension": ".py",
   "mimetype": "text/x-python",
   "name": "python",
   "nbconvert_exporter": "python",
   "pygments_lexer": "ipython3",
   "version": "3.8.6"
  }
 },
 "nbformat": 4,
 "nbformat_minor": 2
}
