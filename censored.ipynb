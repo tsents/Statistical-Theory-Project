{
 "cells": [
  {
   "cell_type": "code",
   "execution_count": 129,
   "metadata": {},
   "outputs": [
    {
     "data": {
      "text/html": [
       "<div>\n",
       "<style scoped>\n",
       "    .dataframe tbody tr th:only-of-type {\n",
       "        vertical-align: middle;\n",
       "    }\n",
       "\n",
       "    .dataframe tbody tr th {\n",
       "        vertical-align: top;\n",
       "    }\n",
       "\n",
       "    .dataframe thead th {\n",
       "        text-align: right;\n",
       "    }\n",
       "</style>\n",
       "<table border=\"1\" class=\"dataframe\">\n",
       "  <thead>\n",
       "    <tr style=\"text-align: right;\">\n",
       "      <th></th>\n",
       "      <th>PetID</th>\n",
       "      <th>PetType</th>\n",
       "      <th>Breed</th>\n",
       "      <th>AgeMonths</th>\n",
       "      <th>Color</th>\n",
       "      <th>Size</th>\n",
       "      <th>WeightKg</th>\n",
       "      <th>Vaccinated</th>\n",
       "      <th>HealthCondition</th>\n",
       "      <th>TimeInShelterDays</th>\n",
       "      <th>AdoptionFee</th>\n",
       "      <th>PreviousOwner</th>\n",
       "      <th>AdoptionLikelihood</th>\n",
       "    </tr>\n",
       "  </thead>\n",
       "  <tbody>\n",
       "    <tr>\n",
       "      <th>0</th>\n",
       "      <td>500</td>\n",
       "      <td>Bird</td>\n",
       "      <td>Parakeet</td>\n",
       "      <td>131</td>\n",
       "      <td>Orange</td>\n",
       "      <td>Large</td>\n",
       "      <td>5.039768</td>\n",
       "      <td>1</td>\n",
       "      <td>0</td>\n",
       "      <td>27</td>\n",
       "      <td>140</td>\n",
       "      <td>0</td>\n",
       "      <td>0</td>\n",
       "    </tr>\n",
       "    <tr>\n",
       "      <th>1</th>\n",
       "      <td>501</td>\n",
       "      <td>Rabbit</td>\n",
       "      <td>Rabbit</td>\n",
       "      <td>73</td>\n",
       "      <td>White</td>\n",
       "      <td>Large</td>\n",
       "      <td>16.086727</td>\n",
       "      <td>0</td>\n",
       "      <td>0</td>\n",
       "      <td>8</td>\n",
       "      <td>235</td>\n",
       "      <td>0</td>\n",
       "      <td>0</td>\n",
       "    </tr>\n",
       "    <tr>\n",
       "      <th>2</th>\n",
       "      <td>502</td>\n",
       "      <td>Dog</td>\n",
       "      <td>Golden Retriever</td>\n",
       "      <td>136</td>\n",
       "      <td>Orange</td>\n",
       "      <td>Medium</td>\n",
       "      <td>2.076286</td>\n",
       "      <td>0</td>\n",
       "      <td>0</td>\n",
       "      <td>85</td>\n",
       "      <td>385</td>\n",
       "      <td>0</td>\n",
       "      <td>0</td>\n",
       "    </tr>\n",
       "    <tr>\n",
       "      <th>3</th>\n",
       "      <td>503</td>\n",
       "      <td>Bird</td>\n",
       "      <td>Parakeet</td>\n",
       "      <td>97</td>\n",
       "      <td>White</td>\n",
       "      <td>Small</td>\n",
       "      <td>3.339423</td>\n",
       "      <td>0</td>\n",
       "      <td>0</td>\n",
       "      <td>61</td>\n",
       "      <td>217</td>\n",
       "      <td>1</td>\n",
       "      <td>0</td>\n",
       "    </tr>\n",
       "    <tr>\n",
       "      <th>4</th>\n",
       "      <td>504</td>\n",
       "      <td>Rabbit</td>\n",
       "      <td>Rabbit</td>\n",
       "      <td>123</td>\n",
       "      <td>Gray</td>\n",
       "      <td>Large</td>\n",
       "      <td>20.498100</td>\n",
       "      <td>0</td>\n",
       "      <td>0</td>\n",
       "      <td>28</td>\n",
       "      <td>14</td>\n",
       "      <td>1</td>\n",
       "      <td>0</td>\n",
       "    </tr>\n",
       "  </tbody>\n",
       "</table>\n",
       "</div>"
      ],
      "text/plain": [
       "   PetID PetType             Breed  AgeMonths   Color    Size   WeightKg  \\\n",
       "0    500    Bird          Parakeet        131  Orange   Large   5.039768   \n",
       "1    501  Rabbit            Rabbit         73   White   Large  16.086727   \n",
       "2    502     Dog  Golden Retriever        136  Orange  Medium   2.076286   \n",
       "3    503    Bird          Parakeet         97   White   Small   3.339423   \n",
       "4    504  Rabbit            Rabbit        123    Gray   Large  20.498100   \n",
       "\n",
       "   Vaccinated  HealthCondition  TimeInShelterDays  AdoptionFee  PreviousOwner  \\\n",
       "0           1                0                 27          140              0   \n",
       "1           0                0                  8          235              0   \n",
       "2           0                0                 85          385              0   \n",
       "3           0                0                 61          217              1   \n",
       "4           0                0                 28           14              1   \n",
       "\n",
       "   AdoptionLikelihood  \n",
       "0                   0  \n",
       "1                   0  \n",
       "2                   0  \n",
       "3                   0  \n",
       "4                   0  "
      ]
     },
     "execution_count": 129,
     "metadata": {},
     "output_type": "execute_result"
    }
   ],
   "source": [
    "import pandas as pd\n",
    "\n",
    "data_frame = pd.read_csv(\"pet_adoption_data.csv\")\n",
    "data_frame.head()"
   ]
  },
  {
   "cell_type": "code",
   "execution_count": 130,
   "metadata": {},
   "outputs": [],
   "source": [
    "def filter_pets(df, pet_type=None, breed=None, max_age_months=None, color=None, size=None, adopted = None,\n",
    "                vaccinated=None,health=None,prev=None):\n",
    "    \"\"\"\n",
    "    Filter the pets DataFrame based on specified criteria.\n",
    "    \n",
    "    Parameters:\n",
    "    df (pd.DataFrame): The DataFrame containing pet data.\n",
    "    pet_type (str): The type of pet to filter by.\n",
    "    breed (str): The breed of the pet to filter by.\n",
    "    max_age_months (int): The maximum age of the pet in months to filter by (pets younger than this age).\n",
    "    color (str): The color of the pet to filter by. ('white', 'black', 'orange')\n",
    "    size (str): The size of the pet to filter by. ('small', 'medium', 'large')\n",
    "    \n",
    "    Returns:\n",
    "    pd.DataFrame: A DataFrame filtered by the specified criteria.\n",
    "    pd.DataFrame: A complementary DataFrame with pets that do not match the criteria.\n",
    "    \"\"\"\n",
    "    \n",
    "    df_filtered = df\n",
    "    df_complementary = df\n",
    "    \n",
    "    # Filter by pet type if specified\n",
    "    if pet_type:\n",
    "        df_filtered = df_filtered[df_filtered['PetType'] == pet_type]\n",
    "        df_complementary = df_complementary[df_complementary['PetType'] == pet_type]\n",
    "        \n",
    "    # Apply filters to get the main subset\n",
    "    if breed:\n",
    "        df_filtered = df_filtered[df_filtered['Breed'] == breed]\n",
    "    if max_age_months is not None:\n",
    "        df_filtered = df_filtered[df_filtered['AgeMonths'] < max_age_months]\n",
    "    if color:\n",
    "        df_filtered = df_filtered[df_filtered['Color'] == color]\n",
    "\n",
    "    if adopted:\n",
    "        df_filtered = df_filtered[df_filtered['AdoptionLikelihood'] == adopted]\n",
    "        df_complementary = df_complementary[df_complementary['AdoptionLikelihood'] == adopted]\n",
    "    if size:\n",
    "        df_filtered = df_filtered[df_filtered['Size'] == size]\n",
    "    if vaccinated:\n",
    "        df_filtered = df_filtered[df_filtered['Vaccinated'] == vaccinated]\n",
    "    if health:\n",
    "        df_filtered = df_filtered[df_filtered['HealthCondition'] == health]\n",
    "    if prev:\n",
    "        df_filtered = df_filtered[df_filtered['PreviousOwner'] == prev]\n",
    "    \n",
    "    # Create the complementary subset by excluding the filtered results\n",
    "    df_complementary = df_complementary[~df_complementary.index.isin(df_filtered.index)]\n",
    "    \n",
    "    return df_filtered, df_complementary"
   ]
  },
  {
   "cell_type": "code",
   "execution_count": 131,
   "metadata": {},
   "outputs": [
    {
     "data": {
      "text/plain": [
       "0.8506974694446651"
      ]
     },
     "execution_count": 131,
     "metadata": {},
     "output_type": "execute_result"
    }
   ],
   "source": [
    "from lifelines.statistics import logrank_test\n",
    "from lifelines.statistics import KaplanMeierFitter\n",
    "\n",
    "\n",
    "group1,group2 = filter_pets(data_frame,pet_type='Dog',color='White',size='Small')\n",
    "# kmf = KaplanMeierFitter()\n",
    "\n",
    "# kmf.fit(group1['TimeInShelterDays'], group1['AdoptionLikelihood'], label='Group 1')\n",
    "# kmf.plot(ci_show=True)\n",
    "\n",
    "# kmf.fit(group2['TimeInShelterDays'], group2['AdoptionLikelihood'], label='Group 2')\n",
    "# kmf.plot(ci_show=True)\n",
    "\n",
    "results = logrank_test(group1['TimeInShelterDays'], group2['TimeInShelterDays'], group1['AdoptionLikelihood'], group2['AdoptionLikelihood'])\n",
    "\n",
    "results.p_value"
   ]
  },
  {
   "cell_type": "code",
   "execution_count": 132,
   "metadata": {},
   "outputs": [
    {
     "data": {
      "text/plain": [
       "0.8794699767625658"
      ]
     },
     "execution_count": 132,
     "metadata": {},
     "output_type": "execute_result"
    }
   ],
   "source": [
    "group1,group2 = filter_pets(data_frame,pet_type='Cat',color='Orange')\n",
    "results = logrank_test(group1['TimeInShelterDays'], group2['TimeInShelterDays'], group1['AdoptionLikelihood'], group2['AdoptionLikelihood'])\n",
    "results.p_value"
   ]
  },
  {
   "cell_type": "code",
   "execution_count": 133,
   "metadata": {},
   "outputs": [
    {
     "data": {
      "text/plain": [
       "9.106897756256654e-28"
      ]
     },
     "execution_count": 133,
     "metadata": {},
     "output_type": "execute_result"
    },
    {
     "data": {
      "image/png": "[encoded data removed]",
      "text/plain": [
       "<Figure size 640x480 with 1 Axes>"
      ]
     },
     "metadata": {},
     "output_type": "display_data"
    }
   ],
   "source": [
    "group1,group2 = filter_pets(data_frame,vaccinated=1)\n",
    "kmf = KaplanMeierFitter()\n",
    "\n",
    "kmf.fit(group1['TimeInShelterDays'], group1['AdoptionLikelihood'], label='Group 1')\n",
    "kmf.plot(ci_show=True)\n",
    "\n",
    "kmf.fit(group2['TimeInShelterDays'], group2['AdoptionLikelihood'], label='Group 2')\n",
    "kmf.plot(ci_show=True)\n",
    "\n",
    "results = logrank_test(group1['TimeInShelterDays'], group2['TimeInShelterDays'], group1['AdoptionLikelihood'], group2['AdoptionLikelihood'])\n",
    "results.p_value"
   ]
  },
  {
   "cell_type": "code",
   "execution_count": 134,
   "metadata": {},
   "outputs": [
    {
     "data": {
      "text/plain": [
       "1.1251042583268865e-18"
      ]
     },
     "execution_count": 134,
     "metadata": {},
     "output_type": "execute_result"
    },
    {
     "data": {
      "image/png": "[encoded data removed]",
      "text/plain": [
       "<Figure size 640x480 with 1 Axes>"
      ]
     },
     "metadata": {},
     "output_type": "display_data"
    }
   ],
   "source": [
    "group1,group2 = filter_pets(data_frame,health=1)\n",
    "kmf = KaplanMeierFitter()\n",
    "\n",
    "kmf.fit(group1['TimeInShelterDays'], group1['AdoptionLikelihood'], label='Group 1')\n",
    "kmf.plot(ci_show=True)\n",
    "\n",
    "kmf.fit(group2['TimeInShelterDays'], group2['AdoptionLikelihood'], label='Group 2')\n",
    "kmf.plot(ci_show=True)\n",
    "\n",
    "results = logrank_test(group1['TimeInShelterDays'], group2['TimeInShelterDays'], group1['AdoptionLikelihood'], group2['AdoptionLikelihood'])\n",
    "results.p_value"
   ]
  },
  {
   "cell_type": "code",
   "execution_count": 135,
   "metadata": {},
   "outputs": [
    {
     "data": {
      "text/plain": [
       "0.2755002266894539"
      ]
     },
     "execution_count": 135,
     "metadata": {},
     "output_type": "execute_result"
    }
   ],
   "source": [
    "group1,group2 = filter_pets(data_frame,prev=1)\n",
    "results = logrank_test(group1['TimeInShelterDays'], group2['TimeInShelterDays'], group1['AdoptionLikelihood'], group2['AdoptionLikelihood'])\n",
    "results.p_value"
   ]
  },
  {
   "cell_type": "code",
   "execution_count": 136,
   "metadata": {},
   "outputs": [
    {
     "data": {
      "text/plain": [
       "4.3741402915249335e-05"
      ]
     },
     "execution_count": 136,
     "metadata": {},
     "output_type": "execute_result"
    },
    {
     "data": {
      "image/png": "[encoded data removed]",
      "text/plain": [
       "<Figure size 640x480 with 1 Axes>"
      ]
     },
     "metadata": {},
     "output_type": "display_data"
    }
   ],
   "source": [
    "group1,group2 = filter_pets(data_frame,pet_type='Dog',breed='Golden Retriever')\n",
    "kmf = KaplanMeierFitter()\n",
    "\n",
    "kmf.fit(group1['TimeInShelterDays'], group1['AdoptionLikelihood'], label='Group 1')\n",
    "kmf.plot(ci_show=True)\n",
    "\n",
    "kmf.fit(group2['TimeInShelterDays'], group2['AdoptionLikelihood'], label='Group 2')\n",
    "kmf.plot(ci_show=True)\n",
    "\n",
    "results = logrank_test(group1['TimeInShelterDays'], group2['TimeInShelterDays'], group1['AdoptionLikelihood'], group2['AdoptionLikelihood'])\n",
    "results.p_value"
   ]
  },
  {
   "cell_type": "code",
   "execution_count": 137,
   "metadata": {},
   "outputs": [
    {
     "data": {
      "text/plain": [
       "0.017762884735976894"
      ]
     },
     "execution_count": 137,
     "metadata": {},
     "output_type": "execute_result"
    },
    {
     "data": {
      "image/png": "[encoded data removed]",
      "text/plain": [
       "<Figure size 640x480 with 1 Axes>"
      ]
     },
     "metadata": {},
     "output_type": "display_data"
    }
   ],
   "source": [
    "group1,group2 = filter_pets(data_frame,pet_type='Dog',breed='Poodle')\n",
    "kmf = KaplanMeierFitter()\n",
    "\n",
    "kmf.fit(group1['TimeInShelterDays'], group1['AdoptionLikelihood'], label='Group 1')\n",
    "kmf.plot(ci_show=True)\n",
    "\n",
    "kmf.fit(group2['TimeInShelterDays'], group2['AdoptionLikelihood'], label='Group 2')\n",
    "kmf.plot(ci_show=True)\n",
    "\n",
    "results = logrank_test(group1['TimeInShelterDays'], group2['TimeInShelterDays'], group1['AdoptionLikelihood'], group2['AdoptionLikelihood'])\n",
    "results.p_value"
   ]
  },
  {
   "cell_type": "code",
   "execution_count": 138,
   "metadata": {},
   "outputs": [
    {
     "data": {
      "text/plain": [
       "7.19007329492101e-10"
      ]
     },
     "execution_count": 138,
     "metadata": {},
     "output_type": "execute_result"
    },
    {
     "data": {
      "image/png": "[encoded data removed]",
      "text/plain": [
       "<Figure size 640x480 with 1 Axes>"
      ]
     },
     "metadata": {},
     "output_type": "display_data"
    }
   ],
   "source": [
    "group1,group2 = filter_pets(data_frame,pet_type='Dog',breed='Labrador')\n",
    "kmf = KaplanMeierFitter()\n",
    "\n",
    "kmf.fit(group1['TimeInShelterDays'], group1['AdoptionLikelihood'], label='Group 1')\n",
    "kmf.plot(ci_show=True)\n",
    "\n",
    "kmf.fit(group2['TimeInShelterDays'], group2['AdoptionLikelihood'], label='Group 2')\n",
    "kmf.plot(ci_show=True)\n",
    "\n",
    "results = logrank_test(group1['TimeInShelterDays'], group2['TimeInShelterDays'], group1['AdoptionLikelihood'], group2['AdoptionLikelihood'])\n",
    "results.p_value"
   ]
  },
  {
   "cell_type": "markdown",
   "metadata": {},
   "source": [
    "now lets do log rank."
   ]
  },
  {
   "cell_type": "code",
   "execution_count": 139,
   "metadata": {},
   "outputs": [],
   "source": [
    "def create_dataset_with_groups(data):\n",
    "    colors = ['Black', 'Brown', 'Gray', 'Orange', 'White']\n",
    "    sizes = ['Small', 'Medium', 'Large']\n",
    "    types = ['Dog','Cat','Bird','Rabbit']\n",
    "\n",
    "    # Create a mapping of combinations to group numbers\n",
    "    group_mapping = {}\n",
    "    group_number = 1\n",
    "    for type in types:\n",
    "        for color in colors:\n",
    "            for size in sizes:\n",
    "                combination_name = f'{color} and {size} of {type}'\n",
    "                group_mapping[combination_name] = group_number\n",
    "                group_number += 1\n",
    "    \n",
    "    # Create the groups column\n",
    "    data['groups'] = None\n",
    "    \n",
    "    for type in types:\n",
    "        for color in colors:\n",
    "            for size in sizes:\n",
    "                combination_name = f'{color} and {size} of {type}'\n",
    "                group_number = group_mapping[combination_name]\n",
    "                data.loc[(data['Color'] == f'{color}') & (data['Size'] == f'{size}')& (data['PetType'] == f'{type}'), 'groups'] = group_number\n",
    "    \n",
    "    # Create the new dataframe with required columns\n",
    "    new_df = pd.DataFrame({\n",
    "        'durations': data['TimeInShelterDays'],\n",
    "        'groups': data['groups'],\n",
    "        'events': data['AdoptionLikelihood']\n",
    "    })\n",
    "    \n",
    "    return new_df, group_mapping"
   ]
  },
  {
   "cell_type": "code",
   "execution_count": 140,
   "metadata": {},
   "outputs": [
    {
     "data": {
      "text/html": [
       "<div>\n",
       "<style scoped>\n",
       "    .dataframe tbody tr th:only-of-type {\n",
       "        vertical-align: middle;\n",
       "    }\n",
       "\n",
       "    .dataframe tbody tr th {\n",
       "        vertical-align: top;\n",
       "    }\n",
       "\n",
       "    .dataframe thead th {\n",
       "        text-align: right;\n",
       "    }\n",
       "</style>\n",
       "<table border=\"1\" class=\"dataframe\">\n",
       "  <thead>\n",
       "    <tr style=\"text-align: right;\">\n",
       "      <th></th>\n",
       "      <th>durations</th>\n",
       "      <th>groups</th>\n",
       "      <th>events</th>\n",
       "    </tr>\n",
       "  </thead>\n",
       "  <tbody>\n",
       "    <tr>\n",
       "      <th>0</th>\n",
       "      <td>27</td>\n",
       "      <td>42</td>\n",
       "      <td>0</td>\n",
       "    </tr>\n",
       "    <tr>\n",
       "      <th>1</th>\n",
       "      <td>8</td>\n",
       "      <td>60</td>\n",
       "      <td>0</td>\n",
       "    </tr>\n",
       "    <tr>\n",
       "      <th>2</th>\n",
       "      <td>85</td>\n",
       "      <td>11</td>\n",
       "      <td>0</td>\n",
       "    </tr>\n",
       "    <tr>\n",
       "      <th>3</th>\n",
       "      <td>61</td>\n",
       "      <td>43</td>\n",
       "      <td>0</td>\n",
       "    </tr>\n",
       "    <tr>\n",
       "      <th>4</th>\n",
       "      <td>28</td>\n",
       "      <td>54</td>\n",
       "      <td>0</td>\n",
       "    </tr>\n",
       "  </tbody>\n",
       "</table>\n",
       "</div>"
      ],
      "text/plain": [
       "   durations groups  events\n",
       "0         27     42       0\n",
       "1          8     60       0\n",
       "2         85     11       0\n",
       "3         61     43       0\n",
       "4         28     54       0"
      ]
     },
     "execution_count": 140,
     "metadata": {},
     "output_type": "execute_result"
    }
   ],
   "source": [
    "\n",
    "\n",
    "# Create the combinations\n",
    "df_multy, map= create_dataset_with_groups(data_frame)\n",
    "df_multy.head()"
   ]
  },
  {
   "cell_type": "code",
   "execution_count": 141,
   "metadata": {},
   "outputs": [
    {
     "data": {
      "text/plain": [
       "1.8781003296251303e-49"
      ]
     },
     "execution_count": 141,
     "metadata": {},
     "output_type": "execute_result"
    }
   ],
   "source": [
    "from lifelines.statistics import multivariate_logrank_test\n",
    "\n",
    "\n",
    "\n",
    "result = multivariate_logrank_test(df_multy['durations'], df_multy['groups'], df_multy['events'])\n",
    "result.test_statistic\n",
    "result.p_value"
   ]
  },
  {
   "cell_type": "markdown",
   "metadata": {},
   "source": [
    "now we saw that there is a change. lets rank eache grop with its mean and then performe log rank"
   ]
  },
  {
   "cell_type": "code",
   "execution_count": 142,
   "metadata": {},
   "outputs": [],
   "source": [
    "def get_key_by_value(dictionary, value):\n",
    "    for key, val in dictionary.items():\n",
    "        if val == value:\n",
    "            return key\n",
    "    return None\n",
    "\n",
    "def rank_and_create_new_dataframe(new_df,map):\n",
    "    \n",
    "    # Calculate the mean durations for each group\n",
    "    group_means = new_df.groupby('groups')['durations'].median().reset_index()\n",
    "    group_means.columns = ['groups', 'mean_durations']\n",
    "    \n",
    "    # Rank groups by mean durations\n",
    "    group_means['rank'] = group_means['mean_durations'].rank(method='dense', ascending=False).astype(int)\n",
    "    \n",
    "    # Create a new dataframe with columns based on ranked groups\n",
    "    ranked_df = pd.DataFrame()\n",
    "    \n",
    "    for _, row in group_means.iterrows():\n",
    "        group = row['groups']\n",
    "        rank = row['rank']\n",
    "        subset = new_df[new_df['groups'] == group][['durations', 'events']]\n",
    "        \n",
    "        ranked_df[f'durations_of_{get_key_by_value(map,int(rank))}'] = subset['durations'].reset_index(drop=True)\n",
    "        ranked_df[f'events_of_{get_key_by_value(map,int(rank))}'] = subset['events'].reset_index(drop=True)\n",
    "    \n",
    "    return ranked_df,group_means\n",
    "\n",
    "\n"
   ]
  },
  {
   "cell_type": "code",
   "execution_count": 143,
   "metadata": {},
   "outputs": [
    {
     "data": {
      "text/html": [
       "<div>\n",
       "<style scoped>\n",
       "    .dataframe tbody tr th:only-of-type {\n",
       "        vertical-align: middle;\n",
       "    }\n",
       "\n",
       "    .dataframe tbody tr th {\n",
       "        vertical-align: top;\n",
       "    }\n",
       "\n",
       "    .dataframe thead th {\n",
       "        text-align: right;\n",
       "    }\n",
       "</style>\n",
       "<table border=\"1\" class=\"dataframe\">\n",
       "  <thead>\n",
       "    <tr style=\"text-align: right;\">\n",
       "      <th></th>\n",
       "      <th>groups</th>\n",
       "      <th>mean_durations</th>\n",
       "      <th>rank</th>\n",
       "    </tr>\n",
       "  </thead>\n",
       "  <tbody>\n",
       "    <tr>\n",
       "      <th>0</th>\n",
       "      <td>1</td>\n",
       "      <td>49.5</td>\n",
       "      <td>11</td>\n",
       "    </tr>\n",
       "    <tr>\n",
       "      <th>1</th>\n",
       "      <td>2</td>\n",
       "      <td>52.0</td>\n",
       "      <td>7</td>\n",
       "    </tr>\n",
       "    <tr>\n",
       "      <th>2</th>\n",
       "      <td>3</td>\n",
       "      <td>44.5</td>\n",
       "      <td>19</td>\n",
       "    </tr>\n",
       "    <tr>\n",
       "      <th>3</th>\n",
       "      <td>4</td>\n",
       "      <td>41.0</td>\n",
       "      <td>23</td>\n",
       "    </tr>\n",
       "    <tr>\n",
       "      <th>4</th>\n",
       "      <td>5</td>\n",
       "      <td>53.0</td>\n",
       "      <td>5</td>\n",
       "    </tr>\n",
       "  </tbody>\n",
       "</table>\n",
       "</div>"
      ],
      "text/plain": [
       "   groups  mean_durations  rank\n",
       "0       1            49.5    11\n",
       "1       2            52.0     7\n",
       "2       3            44.5    19\n",
       "3       4            41.0    23\n",
       "4       5            53.0     5"
      ]
     },
     "execution_count": 143,
     "metadata": {},
     "output_type": "execute_result"
    }
   ],
   "source": [
    "ranked_df, group_means= rank_and_create_new_dataframe(df_multy,map)\n",
    "group_means.head()"
   ]
  },
  {
   "cell_type": "code",
   "execution_count": 144,
   "metadata": {},
   "outputs": [
    {
     "name": "stdout",
     "output_type": "stream",
     "text": [
      "[0.04918963790225342, 0.49397395615908657, 0.15768998897999303, 0.7386326948818995, 0.214190249396733, 0.07660499165272587, 0.29789250710701476, 0.00027657977710735925, 0.0002192506161349024, 0.3507423409474386, 0.0010994898947185687, 0.36730642623381404, 0.012400841723983905, 0.009249414950464767, 0.33731001507853353, 0.0002387716910732503, 8.610953780676646e-05, 0.000593501084788121, 0.0006716834374059584, 6.756001023190107e-05, 0.6983806860499762, 0.0005062021108399927, 0.0029396764619851723, 0.524390831294923, 0.032613712932570954, 0.24977804925344316, 0.0238095751150575, 0.02931995213485417, 1.4797580846124497e-06]\n"
     ]
    }
   ],
   "source": [
    "from lifelines.statistics import logrank_test\n",
    "\n",
    "def calculate_p_values(df):\n",
    "    p_values = []\n",
    "    columns = df.columns\n",
    "    \n",
    "    # Identify pairs of duration and event columns\n",
    "    duration_cols = [col for col in columns if 'durations_of' in col]\n",
    "    event_cols = [col for col in columns if 'events_of' in col]\n",
    "    \n",
    "    \n",
    "    \n",
    "    # Compare each consecutive pair of duration and event columns\n",
    "    for i in range(len(duration_cols) - 1):\n",
    "        T1 = df[duration_cols[i]].tolist()\n",
    "        E1 = df[event_cols[i]].tolist()\n",
    "        T2 = df[duration_cols[i + 1]].tolist()\n",
    "        E2 = df[event_cols[i + 1]].tolist()\n",
    "        \n",
    "        if T1 and T2 and E1 and E2:  # Ensure there is data to compare\n",
    "            results = logrank_test(T1, T2, event_observed_A=E1, event_observed_B=E2)\n",
    "            p_values.append(results.p_value)\n",
    "    \n",
    "    return p_values\n",
    "\n",
    "p_vals = calculate_p_values(ranked_df)\n",
    "print(p_vals)"
   ]
  },
  {
   "cell_type": "code",
   "execution_count": 145,
   "metadata": {},
   "outputs": [
    {
     "name": "stdout",
     "output_type": "stream",
     "text": [
      "(array([False, False, False, False, False, False, False,  True,  True,\n",
      "       False,  True, False,  True,  True, False,  True,  True,  True,\n",
      "        True,  True, False,  True,  True, False, False, False,  True,\n",
      "       False,  True]), array([8.39117352e-02, 5.50970951e-01, 2.40684720e-01, 7.38632695e-01,\n",
      "       3.10575862e-01, 1.23419153e-01, 3.92676487e-01, 1.33680226e-03,\n",
      "       1.33680226e-03, 4.23813662e-01, 3.18852069e-03, 4.26075454e-01,\n",
      "       2.76634162e-02, 2.23527528e-02, 4.23813662e-01, 1.33680226e-03,\n",
      "       8.32392199e-04, 2.15144143e-03, 2.16431330e-03, 8.32392199e-04,\n",
      "       7.23322853e-01, 2.09712303e-03, 7.75005613e-03, 5.63234597e-01,\n",
      "       5.91123547e-02, 3.44931592e-01, 4.93198342e-02, 5.66852408e-02,\n",
      "       4.29129845e-05]))\n"
     ]
    }
   ],
   "source": [
    "from statsmodels.stats.multitest import fdrcorrection\n",
    "print(fdrcorrection(p_vals, alpha=0.05))"
   ]
  },
  {
   "cell_type": "markdown",
   "metadata": {},
   "source": [
    "now lets try to do U-test instead of log rank to get some knowledge about the directions"
   ]
  },
  {
   "cell_type": "code",
   "execution_count": 146,
   "metadata": {},
   "outputs": [
    {
     "data": {
      "text/html": [
       "<div>\n",
       "<style scoped>\n",
       "    .dataframe tbody tr th:only-of-type {\n",
       "        vertical-align: middle;\n",
       "    }\n",
       "\n",
       "    .dataframe tbody tr th {\n",
       "        vertical-align: top;\n",
       "    }\n",
       "\n",
       "    .dataframe thead th {\n",
       "        text-align: right;\n",
       "    }\n",
       "</style>\n",
       "<table border=\"1\" class=\"dataframe\">\n",
       "  <thead>\n",
       "    <tr style=\"text-align: right;\">\n",
       "      <th></th>\n",
       "      <th>durations_of_Black and Large of Cat</th>\n",
       "      <th>events_of_Black and Large of Cat</th>\n",
       "      <th>durations_of_Orange and Large of Cat</th>\n",
       "      <th>events_of_Orange and Large of Cat</th>\n",
       "      <th>durations_of_White and Medium of Dog</th>\n",
       "      <th>events_of_White and Medium of Dog</th>\n",
       "      <th>durations_of_White and Large of Bird</th>\n",
       "      <th>events_of_White and Large of Bird</th>\n",
       "      <th>durations_of_Orange and Small of Bird</th>\n",
       "      <th>events_of_Orange and Small of Bird</th>\n",
       "      <th>...</th>\n",
       "      <th>durations_of_Orange and Medium of Dog</th>\n",
       "      <th>events_of_Orange and Medium of Dog</th>\n",
       "      <th>durations_of_Black and Medium of Cat</th>\n",
       "      <th>events_of_Black and Medium of Cat</th>\n",
       "      <th>durations_of_Gray and Small of Dog</th>\n",
       "      <th>events_of_Gray and Small of Dog</th>\n",
       "      <th>durations_of_Gray and Large of Cat</th>\n",
       "      <th>events_of_Gray and Large of Cat</th>\n",
       "      <th>durations_of_Black and Large of Rabbit</th>\n",
       "      <th>events_of_Black and Large of Rabbit</th>\n",
       "    </tr>\n",
       "  </thead>\n",
       "  <tbody>\n",
       "    <tr>\n",
       "      <th>0</th>\n",
       "      <td>51</td>\n",
       "      <td>1</td>\n",
       "      <td>79</td>\n",
       "      <td>1</td>\n",
       "      <td>23</td>\n",
       "      <td>1</td>\n",
       "      <td>52.0</td>\n",
       "      <td>1.0</td>\n",
       "      <td>30</td>\n",
       "      <td>1</td>\n",
       "      <td>...</td>\n",
       "      <td>7</td>\n",
       "      <td>1</td>\n",
       "      <td>53.0</td>\n",
       "      <td>1.0</td>\n",
       "      <td>60.0</td>\n",
       "      <td>1.0</td>\n",
       "      <td>56</td>\n",
       "      <td>1</td>\n",
       "      <td>1.0</td>\n",
       "      <td>1.0</td>\n",
       "    </tr>\n",
       "    <tr>\n",
       "      <th>1</th>\n",
       "      <td>27</td>\n",
       "      <td>1</td>\n",
       "      <td>51</td>\n",
       "      <td>1</td>\n",
       "      <td>81</td>\n",
       "      <td>1</td>\n",
       "      <td>16.0</td>\n",
       "      <td>1.0</td>\n",
       "      <td>85</td>\n",
       "      <td>1</td>\n",
       "      <td>...</td>\n",
       "      <td>64</td>\n",
       "      <td>1</td>\n",
       "      <td>NaN</td>\n",
       "      <td>NaN</td>\n",
       "      <td>71.0</td>\n",
       "      <td>1.0</td>\n",
       "      <td>2</td>\n",
       "      <td>1</td>\n",
       "      <td>33.0</td>\n",
       "      <td>1.0</td>\n",
       "    </tr>\n",
       "    <tr>\n",
       "      <th>2</th>\n",
       "      <td>80</td>\n",
       "      <td>1</td>\n",
       "      <td>9</td>\n",
       "      <td>1</td>\n",
       "      <td>59</td>\n",
       "      <td>1</td>\n",
       "      <td>23.0</td>\n",
       "      <td>1.0</td>\n",
       "      <td>71</td>\n",
       "      <td>1</td>\n",
       "      <td>...</td>\n",
       "      <td>51</td>\n",
       "      <td>1</td>\n",
       "      <td>NaN</td>\n",
       "      <td>NaN</td>\n",
       "      <td>79.0</td>\n",
       "      <td>1.0</td>\n",
       "      <td>65</td>\n",
       "      <td>1</td>\n",
       "      <td>34.0</td>\n",
       "      <td>1.0</td>\n",
       "    </tr>\n",
       "    <tr>\n",
       "      <th>3</th>\n",
       "      <td>44</td>\n",
       "      <td>1</td>\n",
       "      <td>55</td>\n",
       "      <td>1</td>\n",
       "      <td>50</td>\n",
       "      <td>1</td>\n",
       "      <td>NaN</td>\n",
       "      <td>NaN</td>\n",
       "      <td>87</td>\n",
       "      <td>1</td>\n",
       "      <td>...</td>\n",
       "      <td>74</td>\n",
       "      <td>1</td>\n",
       "      <td>NaN</td>\n",
       "      <td>NaN</td>\n",
       "      <td>76.0</td>\n",
       "      <td>1.0</td>\n",
       "      <td>35</td>\n",
       "      <td>1</td>\n",
       "      <td>5.0</td>\n",
       "      <td>1.0</td>\n",
       "    </tr>\n",
       "    <tr>\n",
       "      <th>4</th>\n",
       "      <td>20</td>\n",
       "      <td>1</td>\n",
       "      <td>76</td>\n",
       "      <td>1</td>\n",
       "      <td>87</td>\n",
       "      <td>1</td>\n",
       "      <td>NaN</td>\n",
       "      <td>NaN</td>\n",
       "      <td>67</td>\n",
       "      <td>1</td>\n",
       "      <td>...</td>\n",
       "      <td>52</td>\n",
       "      <td>1</td>\n",
       "      <td>NaN</td>\n",
       "      <td>NaN</td>\n",
       "      <td>45.0</td>\n",
       "      <td>1.0</td>\n",
       "      <td>75</td>\n",
       "      <td>1</td>\n",
       "      <td>NaN</td>\n",
       "      <td>NaN</td>\n",
       "    </tr>\n",
       "  </tbody>\n",
       "</table>\n",
       "<p>5 rows × 98 columns</p>\n",
       "</div>"
      ],
      "text/plain": [
       "   durations_of_Black and Large of Cat  events_of_Black and Large of Cat  \\\n",
       "0                                   51                                 1   \n",
       "1                                   27                                 1   \n",
       "2                                   80                                 1   \n",
       "3                                   44                                 1   \n",
       "4                                   20                                 1   \n",
       "\n",
       "   durations_of_Orange and Large of Cat  events_of_Orange and Large of Cat  \\\n",
       "0                                    79                                  1   \n",
       "1                                    51                                  1   \n",
       "2                                     9                                  1   \n",
       "3                                    55                                  1   \n",
       "4                                    76                                  1   \n",
       "\n",
       "   durations_of_White and Medium of Dog  events_of_White and Medium of Dog  \\\n",
       "0                                    23                                  1   \n",
       "1                                    81                                  1   \n",
       "2                                    59                                  1   \n",
       "3                                    50                                  1   \n",
       "4                                    87                                  1   \n",
       "\n",
       "   durations_of_White and Large of Bird  events_of_White and Large of Bird  \\\n",
       "0                                  52.0                                1.0   \n",
       "1                                  16.0                                1.0   \n",
       "2                                  23.0                                1.0   \n",
       "3                                   NaN                                NaN   \n",
       "4                                   NaN                                NaN   \n",
       "\n",
       "   durations_of_Orange and Small of Bird  events_of_Orange and Small of Bird  \\\n",
       "0                                     30                                   1   \n",
       "1                                     85                                   1   \n",
       "2                                     71                                   1   \n",
       "3                                     87                                   1   \n",
       "4                                     67                                   1   \n",
       "\n",
       "   ...  durations_of_Orange and Medium of Dog  \\\n",
       "0  ...                                      7   \n",
       "1  ...                                     64   \n",
       "2  ...                                     51   \n",
       "3  ...                                     74   \n",
       "4  ...                                     52   \n",
       "\n",
       "   events_of_Orange and Medium of Dog  durations_of_Black and Medium of Cat  \\\n",
       "0                                   1                                  53.0   \n",
       "1                                   1                                   NaN   \n",
       "2                                   1                                   NaN   \n",
       "3                                   1                                   NaN   \n",
       "4                                   1                                   NaN   \n",
       "\n",
       "   events_of_Black and Medium of Cat  durations_of_Gray and Small of Dog  \\\n",
       "0                                1.0                                60.0   \n",
       "1                                NaN                                71.0   \n",
       "2                                NaN                                79.0   \n",
       "3                                NaN                                76.0   \n",
       "4                                NaN                                45.0   \n",
       "\n",
       "   events_of_Gray and Small of Dog  durations_of_Gray and Large of Cat  \\\n",
       "0                              1.0                                  56   \n",
       "1                              1.0                                   2   \n",
       "2                              1.0                                  65   \n",
       "3                              1.0                                  35   \n",
       "4                              1.0                                  75   \n",
       "\n",
       "   events_of_Gray and Large of Cat  durations_of_Black and Large of Rabbit  \\\n",
       "0                                1                                     1.0   \n",
       "1                                1                                    33.0   \n",
       "2                                1                                    34.0   \n",
       "3                                1                                     5.0   \n",
       "4                                1                                     NaN   \n",
       "\n",
       "   events_of_Black and Large of Rabbit  \n",
       "0                                  1.0  \n",
       "1                                  1.0  \n",
       "2                                  1.0  \n",
       "3                                  1.0  \n",
       "4                                  NaN  \n",
       "\n",
       "[5 rows x 98 columns]"
      ]
     },
     "execution_count": 146,
     "metadata": {},
     "output_type": "execute_result"
    }
   ],
   "source": [
    "df_multy_adopted = df_multy[df_multy['events'] == 1]\n",
    "\n",
    "ranked_df, group_means= rank_and_create_new_dataframe(df_multy_adopted,map)\n",
    "ranked_df.head()\n",
    "\n"
   ]
  },
  {
   "cell_type": "code",
   "execution_count": 147,
   "metadata": {},
   "outputs": [
    {
     "name": "stdout",
     "output_type": "stream",
     "text": [
      "[0.5717337580532695, 0.28604659308884683, 0.040486035292625205, 0.06394112506012851, 0.72267790089302, 0.6775028752110456, 0.4157669824844794, 0.47490108304753065, 0.47996634563172025, 0.919492163572441, 0.8648692788165095, 0.8166309997096104, 0.15473056662118922, 0.7902628260569166, 0.5155826368785728, 0.0068430950804014064, 0.289721772023489, 0.03441337254099347, 0.6304007951121542, 0.4280535063756432, 0.7262095723399786, 0.24091047030981266, 0.8438488905664223, 0.25908900598069395, 0.465333875992065, 0.9961467671249729, 0.7219397716696392, 0.35611759639608287, 0.5457592597868625, 0.7132175023416227, 0.2768581868407639, 0.02460234995364179, 0.021604681565160384, 0.915726247597593, 0.419614165564107, 0.5185507359329973, 0.4597464714957845, 0.6375982884604721, 0.8917248175105904, 0.445574893590188, 0.13548304720894558, 0.6433166319016743, 0.8063799222728566, 0.261647125129057, 0.9961467671249729, 0.4498778557021409, 0.7895330713870277, 0.018809799187078403]\n"
     ]
    }
   ],
   "source": [
    "#stats.mannwhitneyu(np.array(pets[0]['TimeInShelterDays']),np.array(pets[1]['TimeInShelterDays']),alternative=direction)\n",
    "\n",
    "def calculate_p_values_U(df):\n",
    "    p_values = []\n",
    "    columns = df.columns\n",
    "    \n",
    "    # Identify pairs of duration and event columns\n",
    "    duration_cols = [col for col in columns if 'durations_of' in col]\n",
    "    event_cols = [col for col in columns if 'events_of' in col]\n",
    "    \n",
    "    # Sort columns to ensure they are paired correctly\n",
    "    duration_cols.sort()\n",
    "    event_cols.sort()\n",
    "    \n",
    "    # Compare each consecutive pair of duration and event columns\n",
    "    for i in range(len(duration_cols) - 1):\n",
    "        T1 = df[duration_cols[i]].dropna().tolist()\n",
    "        E1 = df[event_cols[i]].dropna().tolist()\n",
    "        T2 = df[duration_cols[i + 1]].dropna().tolist()\n",
    "        E2 = df[event_cols[i + 1]].dropna().tolist()\n",
    "        \n",
    "        if T1 and T2 and E1 and E2:  # Ensure there is data to compare\n",
    "            results = logrank_test(T1, T2, event_observed_A=E1, event_observed_B=E2)\n",
    "            p_values.append(results.p_value)\n",
    "    \n",
    "    return p_values\n",
    "\n",
    "p_vals = calculate_p_values(ranked_df)\n",
    "print(p_vals)"
   ]
  },
  {
   "cell_type": "code",
   "execution_count": 148,
   "metadata": {},
   "outputs": [
    {
     "name": "stdout",
     "output_type": "stream",
     "text": [
      "      PetID PetType    Breed  AgeMonths  Color    Size   WeightKg  Vaccinated  \\\n",
      "58      558     Cat  Persian        118  Black  Medium   8.559580           0   \n",
      "119     619     Cat  Persian         54  Black  Medium  20.498494           1   \n",
      "139     639     Cat  Persian         68  Black  Medium  24.806657           0   \n",
      "190     690     Cat  Persian         52  Black  Medium   6.028486           1   \n",
      "314     814     Cat  Siamese        140  Black  Medium  23.477372           1   \n",
      "369     869     Cat  Siamese         29  Black  Medium  29.388667           1   \n",
      "370     870     Cat  Siamese         27  Black  Medium  12.204676           1   \n",
      "449     949     Cat  Siamese         17  Black  Medium   7.040053           0   \n",
      "596    1096     Cat  Persian         69  Black  Medium   1.046434           0   \n",
      "664    1164     Cat  Siamese        143  Black  Medium   9.289402           1   \n",
      "699    1199     Cat  Persian         85  Black  Medium  11.411022           1   \n",
      "745    1245     Cat  Siamese         13  Black  Medium   8.747793           1   \n",
      "838    1338     Cat  Persian        142  Black  Medium   3.861872           0   \n",
      "847    1347     Cat  Siamese         25  Black  Medium  17.380402           0   \n",
      "863    1363     Cat  Siamese         71  Black  Medium   7.788977           1   \n",
      "874    1374     Cat  Siamese         61  Black  Medium  12.318349           0   \n",
      "876    1376     Cat  Persian        168  Black  Medium  20.442953           0   \n",
      "1062   1562     Cat  Siamese        142  Black  Medium  21.313191           0   \n",
      "1085   1585     Cat  Persian         55  Black  Medium  23.765198           1   \n",
      "1131   1631     Cat  Siamese         56  Black  Medium  14.117107           1   \n",
      "1203   1703     Cat  Persian         86  Black  Medium  18.719679           0   \n",
      "1253   1753     Cat  Persian        173  Black  Medium  23.667428           1   \n",
      "1279   1779     Cat  Siamese        179  Black  Medium  23.607033           0   \n",
      "1291   1791     Cat  Siamese        116  Black  Medium  27.952819           0   \n",
      "1321   1821     Cat  Siamese         57  Black  Medium  26.549118           1   \n",
      "1377   1877     Cat  Siamese        102  Black  Medium  28.856488           1   \n",
      "1470   1970     Cat  Siamese         56  Black  Medium   6.318755           0   \n",
      "1564   2064     Cat  Siamese         17  Black  Medium  21.978446           0   \n",
      "1651   2151     Cat  Siamese        174  Black  Medium  25.377505           1   \n",
      "1698   2198     Cat  Siamese        101  Black  Medium  25.648187           1   \n",
      "1737   2237     Cat  Siamese         74  Black  Medium   8.674836           1   \n",
      "1801   2301     Cat  Siamese        169  Black  Medium  28.150971           1   \n",
      "1828   2328     Cat  Persian        112  Black  Medium  12.367064           1   \n",
      "1841   2341     Cat  Siamese         27  Black  Medium  20.445675           0   \n",
      "1864   2364     Cat  Persian        135  Black  Medium  27.957910           1   \n",
      "1875   2375     Cat  Persian         38  Black  Medium  27.269656           1   \n",
      "1878   2378     Cat  Siamese        141  Black  Medium  12.923319           0   \n",
      "1905   2405     Cat  Siamese         10  Black  Medium  13.471605           0   \n",
      "1982   2482     Cat  Siamese         80  Black  Medium   5.208062           1   \n",
      "\n",
      "      HealthCondition  TimeInShelterDays  AdoptionFee  PreviousOwner  \\\n",
      "58                  1                  6          118              0   \n",
      "119                 1                 43          245              0   \n",
      "139                 0                 81           20              0   \n",
      "190                 0                 50          456              0   \n",
      "314                 0                  8          239              0   \n",
      "369                 1                 72          395              0   \n",
      "370                 1                 36          288              0   \n",
      "449                 0                 24           28              1   \n",
      "596                 0                 69           87              1   \n",
      "664                 0                  5          361              0   \n",
      "699                 0                  2          181              0   \n",
      "745                 0                 11          249              0   \n",
      "838                 0                 13          329              0   \n",
      "847                 0                 54          482              0   \n",
      "863                 0                 18          220              1   \n",
      "874                 0                 42          204              0   \n",
      "876                 1                 51          245              1   \n",
      "1062                0                 17          261              0   \n",
      "1085                0                 36           94              0   \n",
      "1131                0                  6          406              0   \n",
      "1203                0                 73          100              0   \n",
      "1253                0                 80          186              0   \n",
      "1279                1                 10          210              0   \n",
      "1291                0                 25          105              0   \n",
      "1321                1                 88          396              1   \n",
      "1377                0                 22          387              0   \n",
      "1470                0                 63          472              1   \n",
      "1564                0                 79          194              1   \n",
      "1651                0                 18          149              0   \n",
      "1698                0                 38          498              0   \n",
      "1737                0                 56          266              1   \n",
      "1801                0                 47          483              1   \n",
      "1828                1                 51          127              0   \n",
      "1841                0                 38          445              0   \n",
      "1864                0                 42          167              0   \n",
      "1875                0                 86          432              0   \n",
      "1878                1                 45            2              1   \n",
      "1905                0                 66          464              0   \n",
      "1982                0                 39          483              1   \n",
      "\n",
      "      AdoptionLikelihood groups  \n",
      "58                     0     17  \n",
      "119                    0     17  \n",
      "139                    0     17  \n",
      "190                    1     17  \n",
      "314                    1     17  \n",
      "369                    0     17  \n",
      "370                    0     17  \n",
      "449                    1     17  \n",
      "596                    0     17  \n",
      "664                    1     17  \n",
      "699                    1     17  \n",
      "745                    1     17  \n",
      "838                    0     17  \n",
      "847                    0     17  \n",
      "863                    1     17  \n",
      "874                    0     17  \n",
      "876                    0     17  \n",
      "1062                   0     17  \n",
      "1085                   1     17  \n",
      "1131                   1     17  \n",
      "1203                   0     17  \n",
      "1253                   1     17  \n",
      "1279                   0     17  \n",
      "1291                   0     17  \n",
      "1321                   0     17  \n",
      "1377                   1     17  \n",
      "1470                   0     17  \n",
      "1564                   1     17  \n",
      "1651                   1     17  \n",
      "1698                   1     17  \n",
      "1737                   1     17  \n",
      "1801                   1     17  \n",
      "1828                   1     17  \n",
      "1841                   1     17  \n",
      "1864                   0     17  \n",
      "1875                   1     17  \n",
      "1878                   1     17  \n",
      "1905                   1     17  \n",
      "1982                   1     17  \n"
     ]
    }
   ],
   "source": [
    "print(data_frame[(data_frame['PetType'] == 'Cat') & (data_frame['Color'] == 'Black') & (data_frame['Size'] == 'Medium')])"
   ]
  }
 ],
 "metadata": {
  "kernelspec": {
   "display_name": "Python 3",
   "language": "python",
   "name": "python3"
  },
  "language_info": {
   "codemirror_mode": {
    "name": "ipython",
    "version": 3
   },
   "file_extension": ".py",
   "mimetype": "text/x-python",
   "name": "python",
   "nbconvert_exporter": "python",
   "pygments_lexer": "ipython3",
   "version": "3.8.6"
  }
 },
 "nbformat": 4,
 "nbformat_minor": 2
}
